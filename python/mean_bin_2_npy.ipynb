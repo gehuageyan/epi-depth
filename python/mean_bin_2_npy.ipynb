{
 "cells": [
  {
   "cell_type": "code",
   "execution_count": 9,
   "metadata": {
    "collapsed": true,
    "deletable": true,
    "editable": true
   },
   "outputs": [],
   "source": [
    "#!/usr/bin/env python\n",
    "import numpy as np\n",
    "import sys,caffe\n",
    "\n",
    "def binary2npy(mean_root_paths,mean_bin_path,mean_npy_path):\n",
    "    #mean_bin_path = \"/mean.binaryproto\"\n",
    "    #mean_npy_path = \"/mean.npy\"\n",
    "    \n",
    "    blob = caffe.proto.caffe_pb2.BlobProto()\n",
    "    for mean_root in mean_root_paths:\n",
    "        bin_mean = open( mean_root+mean_bin_path , 'rb' ).read()\n",
    "        blob.ParseFromString(bin_mean)\n",
    "        arr = np.array( caffe.io.blobproto_to_array(blob) )\n",
    "        npy_mean = arr[0]\n",
    "        np.save( mean_root+mean_npy_path , npy_mean )"
   ]
  },
  {
   "cell_type": "code",
   "execution_count": 12,
   "metadata": {
    "collapsed": false,
    "deletable": true,
    "editable": true
   },
   "outputs": [
    {
     "name": "stdout",
     "output_type": "stream",
     "text": [
      "Done\n"
     ]
    }
   ],
   "source": [
    "#root_path = \"/home/hzdz505/dl/datasets/full_data-depth/training\"\n",
    "#mean_root_paths = [root_path+\"/sideboard/epi\",root_path+\"/cotton/epi\",root_path+\"/boxes/epi\",root_path+\"/dino/epi\"]\n",
    "#root_path = \"/home/hzdz505/dl/datasets/full_data-depth/additional\"\n",
    "#mean_root_paths = [root_path+\"/medieval2/epi\",root_path+\"/pens/epi\"]\n",
    "#mean_bin_path = \"/mean.binaryproto\"\n",
    "#mean_npy_path = \"/mean.npy\"\n",
    "\n",
    "root_path = \"/home/hzdz505/dl/datasets/full_data-depth/training\"\n",
    "mean_root_paths = [root_path+\"/lmdb_data\"]\n",
    "mean_bin_path = \"/val_mean.binaryproto\"  #train val test\n",
    "mean_npy_path = \"/val_mean.npy\"          #train val test\n",
    "\n",
    "binary2npy(mean_root_paths,mean_bin_path,mean_npy_path)\n",
    "print \"Done\""
   ]
  },
  {
   "cell_type": "code",
   "execution_count": null,
   "metadata": {
    "collapsed": true,
    "deletable": true,
    "editable": true
   },
   "outputs": [],
   "source": []
  }
 ],
 "metadata": {
  "kernelspec": {
   "display_name": "Python 2",
   "language": "python",
   "name": "python2"
  },
  "language_info": {
   "codemirror_mode": {
    "name": "ipython",
    "version": 2
   },
   "file_extension": ".py",
   "mimetype": "text/x-python",
   "name": "python",
   "nbconvert_exporter": "python",
   "pygments_lexer": "ipython2",
   "version": "2.7.12"
  }
 },
 "nbformat": 4,
 "nbformat_minor": 2
}
