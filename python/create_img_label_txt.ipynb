{
 "cells": [
  {
   "cell_type": "code",
   "execution_count": 39,
   "metadata": {
    "collapsed": true
   },
   "outputs": [],
   "source": [
    "import re\n",
    "\n",
    "_nsre = re.compile('([0-9]+)')\n",
    "def natural_sort_key(s):\n",
    "    return [int(text) if text.isdigit() else text.lower()\n",
    "            for text in re.split(_nsre, s)]"
   ]
  },
  {
   "cell_type": "code",
   "execution_count": 42,
   "metadata": {
    "collapsed": false,
    "deletable": true,
    "editable": true
   },
   "outputs": [],
   "source": [
    "import os\n",
    "import numpy as np\n",
    "from natsort import natsorted, ns\n",
    "\n",
    "def create_img_list(root_path,images,patch_path):\n",
    "    filename2value = lambda x: x[:x.rfind('.')].split('_')[-1]\n",
    "    # ATTENTION: modify when path changes\n",
    "    #PATCH_PATH = \"epi/4/patches_9*33\"\n",
    "    \n",
    "    #listdir已经是乱序\n",
    "    img_files = []\n",
    "    \n",
    "    for img in images:\n",
    "        pt_folder = root_path + \"/\" + img + \"/\" + patch_path\n",
    "        dirs = os.listdir(pt_folder)\n",
    "        dirs.sort(key=natural_sort_key)\n",
    "        #dirs.sort(key = str.lower) \n",
    "        patches = []\n",
    "        with open(root_path + \"/\" + img + \"/\" + 'full_test.txt', 'w') as full_test_txt:\n",
    "            for dir in dirs:\n",
    "                files = os.listdir(\"%s/%s\"%(pt_folder,dir))\n",
    "                files.sort(key=natural_sort_key) #sort(key = str.lower)\n",
    "                #sorted(files)\n",
    "                for f in files:\n",
    "                    #list的合并\n",
    "                    line = \"%s/%s/%s/%s\"%(img,patch_path,dir,f)\n",
    "                    full_test_txt.write(line+\"\\n\") #write() wothout \\n\n",
    "                    img_files.append(line)\n",
    "        full_test_txt.close()\n",
    "\n",
    "    #print len(img_files),img_files[0]\n",
    "\n",
    "    ##################### 再次乱序，特别注意，之后分别生成lmdb、hdf5时不要再打乱顺序 #################################\n",
    "    np.random.shuffle(img_files) \n",
    "\n",
    "    #就因为对其到了for身上，出现了异常\n",
    "    #200000 batch_size=500\n",
    "    offset = 2\n",
    "    accuracy = 0.07\n",
    "    train_num = 220000 * len(sub_folders)\n",
    "    with open('train.txt', 'w') as train_txt:\n",
    "        for f in img_files[:train_num]:\n",
    "            label = int((float(filename2value(f)) + offset)/accuracy + 0.5) #disp四舍五入\n",
    "            img_label_line = '{} {}\\n'.format(f,label)\n",
    "            train_txt.write(img_label_line)\n",
    "    print str(train_num) + \" train images...\"\n",
    "\n",
    "    #20000 batch_size=500\n",
    "    val_num = 20000 * len(sub_folders)\n",
    "    with open('val.txt', 'w') as val_txt:\n",
    "        for f in img_files[train_num:train_num + val_num]:\n",
    "            label = int((float(filename2value(f)) + offset)/accuracy + 0.5) #disp四舍五入\n",
    "            img_label_line = '{} {}\\n'.format(f,label)\n",
    "            val_txt.write(img_label_line)\n",
    "    print str(val_num) + \" validate images...\"\n",
    "\n",
    "    #left...\n",
    "    with open('test.txt', 'w') as test_txt:\n",
    "        for f in img_files[train_num + val_num:]:\n",
    "            img_line = '{}\\n'.format(f)\n",
    "            test_txt.write(img_line)\n",
    "    print str(len(img_files[train_num + val_num:])) + \" test images...\""
   ]
  },
  {
   "cell_type": "code",
   "execution_count": 43,
   "metadata": {
    "collapsed": false,
    "deletable": true,
    "editable": true
   },
   "outputs": [
    {
     "name": "stdout",
     "output_type": "stream",
     "text": [
      "880000 train images...\n",
      "80000 validate images...\n",
      "88576 test images...\n"
     ]
    }
   ],
   "source": [
    "root_path = \"/home/hzdz505/dl/datasets/full_data-depth/training\"\n",
    "\n",
    "#img_folder = \"/home/hzdz505/dl/datasets/full_data-depth/training/sideboard/epi/4/patches_9*33\"\n",
    "imgs = [\"sideboard\",\"cotton\",\"boxes\",\"dino\"]\n",
    "patch_path = \"epi/4/patches_9*33\"\n",
    "create_img_list(root_path,imgs,patch_path)"
   ]
  },
  {
   "cell_type": "code",
   "execution_count": null,
   "metadata": {
    "collapsed": true,
    "deletable": true,
    "editable": true
   },
   "outputs": [],
   "source": []
  }
 ],
 "metadata": {
  "kernelspec": {
   "display_name": "Python 2",
   "language": "python",
   "name": "python2"
  },
  "language_info": {
   "codemirror_mode": {
    "name": "ipython",
    "version": 2
   },
   "file_extension": ".py",
   "mimetype": "text/x-python",
   "name": "python",
   "nbconvert_exporter": "python",
   "pygments_lexer": "ipython2",
   "version": "2.7.12"
  }
 },
 "nbformat": 4,
 "nbformat_minor": 2
}
